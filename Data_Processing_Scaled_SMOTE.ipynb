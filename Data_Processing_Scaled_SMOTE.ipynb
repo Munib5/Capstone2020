{
 "cells": [
  {
   "cell_type": "markdown",
   "metadata": {},
   "source": [
    "# ECG-ViEW "
   ]
  },
  {
   "cell_type": "code",
   "execution_count": 1,
   "metadata": {},
   "outputs": [
    {
     "name": "stderr",
     "output_type": "stream",
     "text": [
      "C:\\Users\\munib\\Anaconda3\\lib\\site-packages\\sklearn\\externals\\six.py:31: FutureWarning: The module is deprecated in version 0.21 and will be removed in version 0.23 since we've dropped support for Python 2.7. Please rely on the official version of six (https://pypi.org/project/six/).\n",
      "  \"(https://pypi.org/project/six/).\", FutureWarning)\n",
      "C:\\Users\\munib\\Anaconda3\\lib\\site-packages\\sklearn\\utils\\deprecation.py:144: FutureWarning: The sklearn.neighbors.base module is  deprecated in version 0.22 and will be removed in version 0.24. The corresponding classes / functions should instead be imported from sklearn.neighbors. Anything that cannot be imported from sklearn.neighbors is now part of the private API.\n",
      "  warnings.warn(message, FutureWarning)\n",
      "C:\\Users\\munib\\Anaconda3\\lib\\site-packages\\sklearn\\externals\\joblib\\__init__.py:15: FutureWarning: sklearn.externals.joblib is deprecated in 0.21 and will be removed in 0.23. Please import this functionality directly from joblib, which can be installed with: pip install joblib. If this warning is raised when loading pickled models, you may need to re-serialize those models with scikit-learn 0.21+.\n",
      "  warnings.warn(msg, category=FutureWarning)\n"
     ]
    }
   ],
   "source": [
    "import pandas as pd\n",
    "import numpy as np\n",
    "import pylab as plt\n",
    "from sklearn.preprocessing import RobustScaler\n",
    "import imblearn\n",
    "from imblearn.under_sampling import RandomUnderSampler\n",
    "from imblearn.over_sampling import SMOTE\n",
    "from imblearn.pipeline import Pipeline\n",
    "\n",
    "#Visualization Libraries\n",
    "import seaborn as sns\n",
    "\n",
    "# Set the global default size of matplotlib figures\n",
    "plt.rc('figure', figsize=(10, 5))\n",
    "# Size of matplotlib histogram bins\n",
    "bin_size = 40"
   ]
  },
  {
   "cell_type": "markdown",
   "metadata": {},
   "source": [
    "## 1. ECG data processing"
   ]
  },
  {
   "cell_type": "code",
   "execution_count": 2,
   "metadata": {},
   "outputs": [
    {
     "ename": "FileNotFoundError",
     "evalue": "[Errno 2] File Electrocardiogram.csv does not exist: 'Electrocardiogram.csv'",
     "output_type": "error",
     "traceback": [
      "\u001b[1;31m---------------------------------------------------------------------------\u001b[0m",
      "\u001b[1;31mFileNotFoundError\u001b[0m                         Traceback (most recent call last)",
      "\u001b[1;32m<ipython-input-2-087deade01fd>\u001b[0m in \u001b[0;36m<module>\u001b[1;34m\u001b[0m\n\u001b[1;32m----> 1\u001b[1;33m \u001b[0mdf_one\u001b[0m \u001b[1;33m=\u001b[0m \u001b[0mpd\u001b[0m\u001b[1;33m.\u001b[0m\u001b[0mread_csv\u001b[0m\u001b[1;33m(\u001b[0m\u001b[1;34m'Electrocardiogram.csv'\u001b[0m\u001b[1;33m)\u001b[0m\u001b[1;33m\u001b[0m\u001b[1;33m\u001b[0m\u001b[0m\n\u001b[0m\u001b[0;32m      2\u001b[0m \u001b[0mdf_one\u001b[0m\u001b[1;33m.\u001b[0m\u001b[0mhead\u001b[0m\u001b[1;33m(\u001b[0m\u001b[1;33m)\u001b[0m\u001b[1;33m\u001b[0m\u001b[1;33m\u001b[0m\u001b[0m\n",
      "\u001b[1;32m~\\Anaconda3\\lib\\site-packages\\pandas\\io\\parsers.py\u001b[0m in \u001b[0;36mparser_f\u001b[1;34m(filepath_or_buffer, sep, delimiter, header, names, index_col, usecols, squeeze, prefix, mangle_dupe_cols, dtype, engine, converters, true_values, false_values, skipinitialspace, skiprows, skipfooter, nrows, na_values, keep_default_na, na_filter, verbose, skip_blank_lines, parse_dates, infer_datetime_format, keep_date_col, date_parser, dayfirst, cache_dates, iterator, chunksize, compression, thousands, decimal, lineterminator, quotechar, quoting, doublequote, escapechar, comment, encoding, dialect, error_bad_lines, warn_bad_lines, delim_whitespace, low_memory, memory_map, float_precision)\u001b[0m\n\u001b[0;32m    674\u001b[0m         )\n\u001b[0;32m    675\u001b[0m \u001b[1;33m\u001b[0m\u001b[0m\n\u001b[1;32m--> 676\u001b[1;33m         \u001b[1;32mreturn\u001b[0m \u001b[0m_read\u001b[0m\u001b[1;33m(\u001b[0m\u001b[0mfilepath_or_buffer\u001b[0m\u001b[1;33m,\u001b[0m \u001b[0mkwds\u001b[0m\u001b[1;33m)\u001b[0m\u001b[1;33m\u001b[0m\u001b[1;33m\u001b[0m\u001b[0m\n\u001b[0m\u001b[0;32m    677\u001b[0m \u001b[1;33m\u001b[0m\u001b[0m\n\u001b[0;32m    678\u001b[0m     \u001b[0mparser_f\u001b[0m\u001b[1;33m.\u001b[0m\u001b[0m__name__\u001b[0m \u001b[1;33m=\u001b[0m \u001b[0mname\u001b[0m\u001b[1;33m\u001b[0m\u001b[1;33m\u001b[0m\u001b[0m\n",
      "\u001b[1;32m~\\Anaconda3\\lib\\site-packages\\pandas\\io\\parsers.py\u001b[0m in \u001b[0;36m_read\u001b[1;34m(filepath_or_buffer, kwds)\u001b[0m\n\u001b[0;32m    446\u001b[0m \u001b[1;33m\u001b[0m\u001b[0m\n\u001b[0;32m    447\u001b[0m     \u001b[1;31m# Create the parser.\u001b[0m\u001b[1;33m\u001b[0m\u001b[1;33m\u001b[0m\u001b[1;33m\u001b[0m\u001b[0m\n\u001b[1;32m--> 448\u001b[1;33m     \u001b[0mparser\u001b[0m \u001b[1;33m=\u001b[0m \u001b[0mTextFileReader\u001b[0m\u001b[1;33m(\u001b[0m\u001b[0mfp_or_buf\u001b[0m\u001b[1;33m,\u001b[0m \u001b[1;33m**\u001b[0m\u001b[0mkwds\u001b[0m\u001b[1;33m)\u001b[0m\u001b[1;33m\u001b[0m\u001b[1;33m\u001b[0m\u001b[0m\n\u001b[0m\u001b[0;32m    449\u001b[0m \u001b[1;33m\u001b[0m\u001b[0m\n\u001b[0;32m    450\u001b[0m     \u001b[1;32mif\u001b[0m \u001b[0mchunksize\u001b[0m \u001b[1;32mor\u001b[0m \u001b[0miterator\u001b[0m\u001b[1;33m:\u001b[0m\u001b[1;33m\u001b[0m\u001b[1;33m\u001b[0m\u001b[0m\n",
      "\u001b[1;32m~\\Anaconda3\\lib\\site-packages\\pandas\\io\\parsers.py\u001b[0m in \u001b[0;36m__init__\u001b[1;34m(self, f, engine, **kwds)\u001b[0m\n\u001b[0;32m    878\u001b[0m             \u001b[0mself\u001b[0m\u001b[1;33m.\u001b[0m\u001b[0moptions\u001b[0m\u001b[1;33m[\u001b[0m\u001b[1;34m\"has_index_names\"\u001b[0m\u001b[1;33m]\u001b[0m \u001b[1;33m=\u001b[0m \u001b[0mkwds\u001b[0m\u001b[1;33m[\u001b[0m\u001b[1;34m\"has_index_names\"\u001b[0m\u001b[1;33m]\u001b[0m\u001b[1;33m\u001b[0m\u001b[1;33m\u001b[0m\u001b[0m\n\u001b[0;32m    879\u001b[0m \u001b[1;33m\u001b[0m\u001b[0m\n\u001b[1;32m--> 880\u001b[1;33m         \u001b[0mself\u001b[0m\u001b[1;33m.\u001b[0m\u001b[0m_make_engine\u001b[0m\u001b[1;33m(\u001b[0m\u001b[0mself\u001b[0m\u001b[1;33m.\u001b[0m\u001b[0mengine\u001b[0m\u001b[1;33m)\u001b[0m\u001b[1;33m\u001b[0m\u001b[1;33m\u001b[0m\u001b[0m\n\u001b[0m\u001b[0;32m    881\u001b[0m \u001b[1;33m\u001b[0m\u001b[0m\n\u001b[0;32m    882\u001b[0m     \u001b[1;32mdef\u001b[0m \u001b[0mclose\u001b[0m\u001b[1;33m(\u001b[0m\u001b[0mself\u001b[0m\u001b[1;33m)\u001b[0m\u001b[1;33m:\u001b[0m\u001b[1;33m\u001b[0m\u001b[1;33m\u001b[0m\u001b[0m\n",
      "\u001b[1;32m~\\Anaconda3\\lib\\site-packages\\pandas\\io\\parsers.py\u001b[0m in \u001b[0;36m_make_engine\u001b[1;34m(self, engine)\u001b[0m\n\u001b[0;32m   1112\u001b[0m     \u001b[1;32mdef\u001b[0m \u001b[0m_make_engine\u001b[0m\u001b[1;33m(\u001b[0m\u001b[0mself\u001b[0m\u001b[1;33m,\u001b[0m \u001b[0mengine\u001b[0m\u001b[1;33m=\u001b[0m\u001b[1;34m\"c\"\u001b[0m\u001b[1;33m)\u001b[0m\u001b[1;33m:\u001b[0m\u001b[1;33m\u001b[0m\u001b[1;33m\u001b[0m\u001b[0m\n\u001b[0;32m   1113\u001b[0m         \u001b[1;32mif\u001b[0m \u001b[0mengine\u001b[0m \u001b[1;33m==\u001b[0m \u001b[1;34m\"c\"\u001b[0m\u001b[1;33m:\u001b[0m\u001b[1;33m\u001b[0m\u001b[1;33m\u001b[0m\u001b[0m\n\u001b[1;32m-> 1114\u001b[1;33m             \u001b[0mself\u001b[0m\u001b[1;33m.\u001b[0m\u001b[0m_engine\u001b[0m \u001b[1;33m=\u001b[0m \u001b[0mCParserWrapper\u001b[0m\u001b[1;33m(\u001b[0m\u001b[0mself\u001b[0m\u001b[1;33m.\u001b[0m\u001b[0mf\u001b[0m\u001b[1;33m,\u001b[0m \u001b[1;33m**\u001b[0m\u001b[0mself\u001b[0m\u001b[1;33m.\u001b[0m\u001b[0moptions\u001b[0m\u001b[1;33m)\u001b[0m\u001b[1;33m\u001b[0m\u001b[1;33m\u001b[0m\u001b[0m\n\u001b[0m\u001b[0;32m   1115\u001b[0m         \u001b[1;32melse\u001b[0m\u001b[1;33m:\u001b[0m\u001b[1;33m\u001b[0m\u001b[1;33m\u001b[0m\u001b[0m\n\u001b[0;32m   1116\u001b[0m             \u001b[1;32mif\u001b[0m \u001b[0mengine\u001b[0m \u001b[1;33m==\u001b[0m \u001b[1;34m\"python\"\u001b[0m\u001b[1;33m:\u001b[0m\u001b[1;33m\u001b[0m\u001b[1;33m\u001b[0m\u001b[0m\n",
      "\u001b[1;32m~\\Anaconda3\\lib\\site-packages\\pandas\\io\\parsers.py\u001b[0m in \u001b[0;36m__init__\u001b[1;34m(self, src, **kwds)\u001b[0m\n\u001b[0;32m   1889\u001b[0m         \u001b[0mkwds\u001b[0m\u001b[1;33m[\u001b[0m\u001b[1;34m\"usecols\"\u001b[0m\u001b[1;33m]\u001b[0m \u001b[1;33m=\u001b[0m \u001b[0mself\u001b[0m\u001b[1;33m.\u001b[0m\u001b[0musecols\u001b[0m\u001b[1;33m\u001b[0m\u001b[1;33m\u001b[0m\u001b[0m\n\u001b[0;32m   1890\u001b[0m \u001b[1;33m\u001b[0m\u001b[0m\n\u001b[1;32m-> 1891\u001b[1;33m         \u001b[0mself\u001b[0m\u001b[1;33m.\u001b[0m\u001b[0m_reader\u001b[0m \u001b[1;33m=\u001b[0m \u001b[0mparsers\u001b[0m\u001b[1;33m.\u001b[0m\u001b[0mTextReader\u001b[0m\u001b[1;33m(\u001b[0m\u001b[0msrc\u001b[0m\u001b[1;33m,\u001b[0m \u001b[1;33m**\u001b[0m\u001b[0mkwds\u001b[0m\u001b[1;33m)\u001b[0m\u001b[1;33m\u001b[0m\u001b[1;33m\u001b[0m\u001b[0m\n\u001b[0m\u001b[0;32m   1892\u001b[0m         \u001b[0mself\u001b[0m\u001b[1;33m.\u001b[0m\u001b[0munnamed_cols\u001b[0m \u001b[1;33m=\u001b[0m \u001b[0mself\u001b[0m\u001b[1;33m.\u001b[0m\u001b[0m_reader\u001b[0m\u001b[1;33m.\u001b[0m\u001b[0munnamed_cols\u001b[0m\u001b[1;33m\u001b[0m\u001b[1;33m\u001b[0m\u001b[0m\n\u001b[0;32m   1893\u001b[0m \u001b[1;33m\u001b[0m\u001b[0m\n",
      "\u001b[1;32mpandas\\_libs\\parsers.pyx\u001b[0m in \u001b[0;36mpandas._libs.parsers.TextReader.__cinit__\u001b[1;34m()\u001b[0m\n",
      "\u001b[1;32mpandas\\_libs\\parsers.pyx\u001b[0m in \u001b[0;36mpandas._libs.parsers.TextReader._setup_parser_source\u001b[1;34m()\u001b[0m\n",
      "\u001b[1;31mFileNotFoundError\u001b[0m: [Errno 2] File Electrocardiogram.csv does not exist: 'Electrocardiogram.csv'"
     ]
    }
   ],
   "source": [
    "df_one = pd.read_csv('Electrocardiogram.csv')\n",
    "df_one.head()"
   ]
  },
  {
   "cell_type": "code",
   "execution_count": 3,
   "metadata": {},
   "outputs": [
    {
     "data": {
      "text/plain": [
       "(979273, 13)"
      ]
     },
     "execution_count": 3,
     "metadata": {},
     "output_type": "execute_result"
    }
   ],
   "source": [
    "df_one.shape"
   ]
  },
  {
   "cell_type": "code",
   "execution_count": 4,
   "metadata": {},
   "outputs": [
    {
     "name": "stdout",
     "output_type": "stream",
     "text": [
      "<class 'pandas.core.frame.DataFrame'>\n",
      "RangeIndex: 979273 entries, 0 to 979272\n",
      "Data columns (total 13 columns):\n",
      " #   Column       Non-Null Count   Dtype  \n",
      "---  ------       --------------   -----  \n",
      " 0   personid     979273 non-null  int64  \n",
      " 1   ecgdate      979273 non-null  object \n",
      " 2   ecgdept      979273 non-null  object \n",
      " 3   ecgsource    979273 non-null  object \n",
      " 4   RR           979239 non-null  float64\n",
      " 5   PR           774260 non-null  float64\n",
      " 6   QRS          810373 non-null  float64\n",
      " 7   QT           979273 non-null  int64  \n",
      " 8   QTc          979273 non-null  int64  \n",
      " 9   P_wave_axis  732827 non-null  float64\n",
      " 10  QRS_axis     762274 non-null  float64\n",
      " 11  T_wave_axis  762248 non-null  float64\n",
      " 12  ACCI         979273 non-null  int64  \n",
      "dtypes: float64(6), int64(4), object(3)\n",
      "memory usage: 97.1+ MB\n"
     ]
    }
   ],
   "source": [
    "df_one.info()"
   ]
  },
  {
   "cell_type": "code",
   "execution_count": 5,
   "metadata": {},
   "outputs": [
    {
     "data": {
      "text/html": [
       "<div>\n",
       "<style scoped>\n",
       "    .dataframe tbody tr th:only-of-type {\n",
       "        vertical-align: middle;\n",
       "    }\n",
       "\n",
       "    .dataframe tbody tr th {\n",
       "        vertical-align: top;\n",
       "    }\n",
       "\n",
       "    .dataframe thead th {\n",
       "        text-align: right;\n",
       "    }\n",
       "</style>\n",
       "<table border=\"1\" class=\"dataframe\">\n",
       "  <thead>\n",
       "    <tr style=\"text-align: right;\">\n",
       "      <th></th>\n",
       "      <th>personid</th>\n",
       "      <th>RR</th>\n",
       "      <th>PR</th>\n",
       "      <th>QRS</th>\n",
       "      <th>QT</th>\n",
       "      <th>QTc</th>\n",
       "      <th>P_wave_axis</th>\n",
       "      <th>QRS_axis</th>\n",
       "      <th>T_wave_axis</th>\n",
       "      <th>ACCI</th>\n",
       "    </tr>\n",
       "  </thead>\n",
       "  <tbody>\n",
       "    <tr>\n",
       "      <th>count</th>\n",
       "      <td>979273.000000</td>\n",
       "      <td>979239.000000</td>\n",
       "      <td>774260.000000</td>\n",
       "      <td>810373.000000</td>\n",
       "      <td>979273.000000</td>\n",
       "      <td>979273.000000</td>\n",
       "      <td>732827.000000</td>\n",
       "      <td>762274.000000</td>\n",
       "      <td>762248.000000</td>\n",
       "      <td>979273.000000</td>\n",
       "    </tr>\n",
       "    <tr>\n",
       "      <th>mean</th>\n",
       "      <td>231021.688946</td>\n",
       "      <td>851.683240</td>\n",
       "      <td>157.081364</td>\n",
       "      <td>91.061474</td>\n",
       "      <td>389.997336</td>\n",
       "      <td>425.415081</td>\n",
       "      <td>48.357848</td>\n",
       "      <td>45.215670</td>\n",
       "      <td>46.198097</td>\n",
       "      <td>7.580933</td>\n",
       "    </tr>\n",
       "    <tr>\n",
       "      <th>std</th>\n",
       "      <td>133238.981417</td>\n",
       "      <td>196.989159</td>\n",
       "      <td>26.661289</td>\n",
       "      <td>15.149489</td>\n",
       "      <td>43.490019</td>\n",
       "      <td>31.493654</td>\n",
       "      <td>24.848064</td>\n",
       "      <td>38.048566</td>\n",
       "      <td>38.416339</td>\n",
       "      <td>3.062956</td>\n",
       "    </tr>\n",
       "    <tr>\n",
       "      <th>min</th>\n",
       "      <td>1.000000</td>\n",
       "      <td>204.000000</td>\n",
       "      <td>36.000000</td>\n",
       "      <td>2.000000</td>\n",
       "      <td>70.000000</td>\n",
       "      <td>53.000000</td>\n",
       "      <td>-89.000000</td>\n",
       "      <td>-89.000000</td>\n",
       "      <td>-89.000000</td>\n",
       "      <td>0.000000</td>\n",
       "    </tr>\n",
       "    <tr>\n",
       "      <th>25%</th>\n",
       "      <td>115711.000000</td>\n",
       "      <td>732.000000</td>\n",
       "      <td>140.000000</td>\n",
       "      <td>82.000000</td>\n",
       "      <td>364.000000</td>\n",
       "      <td>405.000000</td>\n",
       "      <td>36.000000</td>\n",
       "      <td>22.000000</td>\n",
       "      <td>28.000000</td>\n",
       "      <td>6.000000</td>\n",
       "    </tr>\n",
       "    <tr>\n",
       "      <th>50%</th>\n",
       "      <td>231037.000000</td>\n",
       "      <td>857.000000</td>\n",
       "      <td>156.000000</td>\n",
       "      <td>88.000000</td>\n",
       "      <td>390.000000</td>\n",
       "      <td>420.000000</td>\n",
       "      <td>52.000000</td>\n",
       "      <td>51.000000</td>\n",
       "      <td>44.000000</td>\n",
       "      <td>8.000000</td>\n",
       "    </tr>\n",
       "    <tr>\n",
       "      <th>75%</th>\n",
       "      <td>346411.000000</td>\n",
       "      <td>968.000000</td>\n",
       "      <td>172.000000</td>\n",
       "      <td>98.000000</td>\n",
       "      <td>416.000000</td>\n",
       "      <td>440.000000</td>\n",
       "      <td>65.000000</td>\n",
       "      <td>71.000000</td>\n",
       "      <td>59.000000</td>\n",
       "      <td>10.000000</td>\n",
       "    </tr>\n",
       "    <tr>\n",
       "      <th>max</th>\n",
       "      <td>461795.000000</td>\n",
       "      <td>30000.000000</td>\n",
       "      <td>1738.000000</td>\n",
       "      <td>380.000000</td>\n",
       "      <td>852.000000</td>\n",
       "      <td>878.000000</td>\n",
       "      <td>270.000000</td>\n",
       "      <td>270.000000</td>\n",
       "      <td>270.000000</td>\n",
       "      <td>23.000000</td>\n",
       "    </tr>\n",
       "  </tbody>\n",
       "</table>\n",
       "</div>"
      ],
      "text/plain": [
       "            personid             RR             PR            QRS  \\\n",
       "count  979273.000000  979239.000000  774260.000000  810373.000000   \n",
       "mean   231021.688946     851.683240     157.081364      91.061474   \n",
       "std    133238.981417     196.989159      26.661289      15.149489   \n",
       "min         1.000000     204.000000      36.000000       2.000000   \n",
       "25%    115711.000000     732.000000     140.000000      82.000000   \n",
       "50%    231037.000000     857.000000     156.000000      88.000000   \n",
       "75%    346411.000000     968.000000     172.000000      98.000000   \n",
       "max    461795.000000   30000.000000    1738.000000     380.000000   \n",
       "\n",
       "                  QT            QTc    P_wave_axis       QRS_axis  \\\n",
       "count  979273.000000  979273.000000  732827.000000  762274.000000   \n",
       "mean      389.997336     425.415081      48.357848      45.215670   \n",
       "std        43.490019      31.493654      24.848064      38.048566   \n",
       "min        70.000000      53.000000     -89.000000     -89.000000   \n",
       "25%       364.000000     405.000000      36.000000      22.000000   \n",
       "50%       390.000000     420.000000      52.000000      51.000000   \n",
       "75%       416.000000     440.000000      65.000000      71.000000   \n",
       "max       852.000000     878.000000     270.000000     270.000000   \n",
       "\n",
       "         T_wave_axis           ACCI  \n",
       "count  762248.000000  979273.000000  \n",
       "mean       46.198097       7.580933  \n",
       "std        38.416339       3.062956  \n",
       "min       -89.000000       0.000000  \n",
       "25%        28.000000       6.000000  \n",
       "50%        44.000000       8.000000  \n",
       "75%        59.000000      10.000000  \n",
       "max       270.000000      23.000000  "
      ]
     },
     "execution_count": 5,
     "metadata": {},
     "output_type": "execute_result"
    }
   ],
   "source": [
    "df_one.describe()"
   ]
  },
  {
   "cell_type": "code",
   "execution_count": 6,
   "metadata": {},
   "outputs": [],
   "source": [
    "#df_one = df_one.sort_values('ecgdate').drop_duplicates('personid',keep='last')\n",
    "#df_one.shape"
   ]
  },
  {
   "cell_type": "code",
   "execution_count": 7,
   "metadata": {},
   "outputs": [
    {
     "data": {
      "text/plain": [
       "personid         int64\n",
       "ecgdate         object\n",
       "ecgdept         object\n",
       "ecgsource       object\n",
       "RR             float64\n",
       "PR             float64\n",
       "QRS            float64\n",
       "QT               int64\n",
       "QTc              int64\n",
       "P_wave_axis    float64\n",
       "QRS_axis       float64\n",
       "T_wave_axis    float64\n",
       "ACCI             int64\n",
       "dtype: object"
      ]
     },
     "execution_count": 7,
     "metadata": {},
     "output_type": "execute_result"
    }
   ],
   "source": [
    "df_one.dtypes"
   ]
  },
  {
   "cell_type": "code",
   "execution_count": 8,
   "metadata": {},
   "outputs": [
    {
     "data": {
      "text/plain": [
       "Text(0.5, 1.0, 'T wave axis')"
      ]
     },
     "execution_count": 8,
     "metadata": {},
     "output_type": "execute_result"
    },
    {
     "data": {
      "image/png": "[encoded data removed]",
      "text/plain": [
       "<Figure size 1080x1080 with 11 Axes>"
      ]
     },
     "metadata": {
      "needs_background": "light"
     },
     "output_type": "display_data"
    }
   ],
   "source": [
    "fig = plt.figure(figsize = (15,15))\n",
    "fig_dim = (4,3)\n",
    "\n",
    "plt.subplot2grid(fig_dim, (0,0))\n",
    "df_one['ecgdept'].value_counts().plot(kind='bar', title='ECG Department')\n",
    "\n",
    "plt.subplot2grid(fig_dim, (0,1))\n",
    "df_one['ecgsource'].value_counts().plot(kind='bar', title='ECG Source')\n",
    "\n",
    "plt.subplot2grid(fig_dim, (0,2))\n",
    "df_one['ACCI'].value_counts().plot(kind='bar', title='ACCI')\n",
    "\n",
    "plt.subplot2grid(fig_dim, (1,0))\n",
    "df_one['RR'].hist(bins=50)\n",
    "plt.title('RR')\n",
    "\n",
    "plt.subplot2grid(fig_dim, (1,1))\n",
    "df_one['PR'].hist(bins=50)\n",
    "plt.title('PR')\n",
    "\n",
    "plt.subplot2grid(fig_dim, (1,2))\n",
    "df_one['QRS'].hist(bins=50)\n",
    "plt.title('QRS')\n",
    "\n",
    "plt.subplot2grid(fig_dim, (2,0))\n",
    "df_one['QT'].hist(bins=50)\n",
    "plt.title('QT')\n",
    "\n",
    "plt.subplot2grid(fig_dim, (2,1))\n",
    "df_one['QTc'].hist(bins=50)\n",
    "plt.title('QTc')\n",
    "\n",
    "plt.subplot2grid(fig_dim, (2,2))\n",
    "df_one['P_wave_axis'].hist(bins=50)\n",
    "plt.title('P wave axis')\n",
    "\n",
    "plt.subplot2grid(fig_dim, (3,0))\n",
    "df_one['QRS_axis'].hist(bins=50)\n",
    "plt.title('QRS axis')\n",
    "\n",
    "plt.subplot2grid(fig_dim, (3,1))\n",
    "df_one['T_wave_axis'].hist(bins=50)\n",
    "plt.title('T wave axis')"
   ]
  },
  {
   "cell_type": "code",
   "execution_count": 9,
   "metadata": {},
   "outputs": [
    {
     "data": {
      "text/plain": [
       "personid            0\n",
       "ecgdate             0\n",
       "ecgdept             0\n",
       "ecgsource           0\n",
       "RR                 34\n",
       "PR             205013\n",
       "QRS            168900\n",
       "QT                  0\n",
       "QTc                 0\n",
       "P_wave_axis    246446\n",
       "QRS_axis       216999\n",
       "T_wave_axis    217025\n",
       "ACCI                0\n",
       "dtype: int64"
      ]
     },
     "execution_count": 9,
     "metadata": {},
     "output_type": "execute_result"
    }
   ],
   "source": [
    "df_one.isnull().sum()"
   ]
  },
  {
   "cell_type": "code",
   "execution_count": 10,
   "metadata": {},
   "outputs": [],
   "source": [
    "# Drop instances that have missing values \n",
    "df_two = df_one.dropna(subset=['RR', 'PR', 'QRS', 'P_wave_axis','QRS_axis', 'T_wave_axis']);"
   ]
  },
  {
   "cell_type": "code",
   "execution_count": 11,
   "metadata": {},
   "outputs": [
    {
     "data": {
      "text/plain": [
       "personid       0\n",
       "ecgdate        0\n",
       "ecgdept        0\n",
       "ecgsource      0\n",
       "RR             0\n",
       "PR             0\n",
       "QRS            0\n",
       "QT             0\n",
       "QTc            0\n",
       "P_wave_axis    0\n",
       "QRS_axis       0\n",
       "T_wave_axis    0\n",
       "ACCI           0\n",
       "dtype: int64"
      ]
     },
     "execution_count": 11,
     "metadata": {},
     "output_type": "execute_result"
    }
   ],
   "source": [
    "df_two.isnull().sum()"
   ]
  },
  {
   "cell_type": "code",
   "execution_count": 12,
   "metadata": {},
   "outputs": [
    {
     "data": {
      "text/plain": [
       "(726444, 13)"
      ]
     },
     "execution_count": 12,
     "metadata": {},
     "output_type": "execute_result"
    }
   ],
   "source": [
    "df_two.shape"
   ]
  },
  {
   "cell_type": "code",
   "execution_count": 13,
   "metadata": {},
   "outputs": [],
   "source": [
    "# Drop unrelevant information \n",
    "df_three = df_two.drop(columns = ['ecgdate', 'ecgsource', 'ecgdept'])"
   ]
  },
  {
   "cell_type": "code",
   "execution_count": 14,
   "metadata": {},
   "outputs": [
    {
     "data": {
      "text/html": [
       "<div>\n",
       "<style scoped>\n",
       "    .dataframe tbody tr th:only-of-type {\n",
       "        vertical-align: middle;\n",
       "    }\n",
       "\n",
       "    .dataframe tbody tr th {\n",
       "        vertical-align: top;\n",
       "    }\n",
       "\n",
       "    .dataframe thead th {\n",
       "        text-align: right;\n",
       "    }\n",
       "</style>\n",
       "<table border=\"1\" class=\"dataframe\">\n",
       "  <thead>\n",
       "    <tr style=\"text-align: right;\">\n",
       "      <th></th>\n",
       "      <th>personid</th>\n",
       "      <th>RR</th>\n",
       "      <th>PR</th>\n",
       "      <th>QRS</th>\n",
       "      <th>QT</th>\n",
       "      <th>QTc</th>\n",
       "      <th>P_wave_axis</th>\n",
       "      <th>QRS_axis</th>\n",
       "      <th>T_wave_axis</th>\n",
       "      <th>ACCI</th>\n",
       "    </tr>\n",
       "  </thead>\n",
       "  <tbody>\n",
       "    <tr>\n",
       "      <th>2</th>\n",
       "      <td>270</td>\n",
       "      <td>600.0</td>\n",
       "      <td>122.0</td>\n",
       "      <td>78.0</td>\n",
       "      <td>318</td>\n",
       "      <td>410</td>\n",
       "      <td>62.0</td>\n",
       "      <td>86.0</td>\n",
       "      <td>61.0</td>\n",
       "      <td>7</td>\n",
       "    </tr>\n",
       "    <tr>\n",
       "      <th>3</th>\n",
       "      <td>306709</td>\n",
       "      <td>577.0</td>\n",
       "      <td>150.0</td>\n",
       "      <td>92.0</td>\n",
       "      <td>362</td>\n",
       "      <td>476</td>\n",
       "      <td>17.0</td>\n",
       "      <td>46.0</td>\n",
       "      <td>70.0</td>\n",
       "      <td>12</td>\n",
       "    </tr>\n",
       "    <tr>\n",
       "      <th>4</th>\n",
       "      <td>87768</td>\n",
       "      <td>698.0</td>\n",
       "      <td>136.0</td>\n",
       "      <td>88.0</td>\n",
       "      <td>354</td>\n",
       "      <td>423</td>\n",
       "      <td>28.0</td>\n",
       "      <td>59.0</td>\n",
       "      <td>29.0</td>\n",
       "      <td>3</td>\n",
       "    </tr>\n",
       "    <tr>\n",
       "      <th>5</th>\n",
       "      <td>209545</td>\n",
       "      <td>638.0</td>\n",
       "      <td>112.0</td>\n",
       "      <td>94.0</td>\n",
       "      <td>368</td>\n",
       "      <td>460</td>\n",
       "      <td>14.0</td>\n",
       "      <td>132.0</td>\n",
       "      <td>-3.0</td>\n",
       "      <td>6</td>\n",
       "    </tr>\n",
       "    <tr>\n",
       "      <th>8</th>\n",
       "      <td>269001</td>\n",
       "      <td>741.0</td>\n",
       "      <td>136.0</td>\n",
       "      <td>84.0</td>\n",
       "      <td>362</td>\n",
       "      <td>420</td>\n",
       "      <td>65.0</td>\n",
       "      <td>42.0</td>\n",
       "      <td>31.0</td>\n",
       "      <td>7</td>\n",
       "    </tr>\n",
       "  </tbody>\n",
       "</table>\n",
       "</div>"
      ],
      "text/plain": [
       "   personid     RR     PR   QRS   QT  QTc  P_wave_axis  QRS_axis  T_wave_axis  \\\n",
       "2       270  600.0  122.0  78.0  318  410         62.0      86.0         61.0   \n",
       "3    306709  577.0  150.0  92.0  362  476         17.0      46.0         70.0   \n",
       "4     87768  698.0  136.0  88.0  354  423         28.0      59.0         29.0   \n",
       "5    209545  638.0  112.0  94.0  368  460         14.0     132.0         -3.0   \n",
       "8    269001  741.0  136.0  84.0  362  420         65.0      42.0         31.0   \n",
       "\n",
       "   ACCI  \n",
       "2     7  \n",
       "3    12  \n",
       "4     3  \n",
       "5     6  \n",
       "8     7  "
      ]
     },
     "execution_count": 14,
     "metadata": {},
     "output_type": "execute_result"
    }
   ],
   "source": [
    "df_three.head()"
   ]
  },
  {
   "cell_type": "markdown",
   "metadata": {},
   "source": [
    "## 2. Diagnosis code & personal info (sex)"
   ]
  },
  {
   "cell_type": "code",
   "execution_count": 15,
   "metadata": {},
   "outputs": [
    {
     "data": {
      "text/html": [
       "<div>\n",
       "<style scoped>\n",
       "    .dataframe tbody tr th:only-of-type {\n",
       "        vertical-align: middle;\n",
       "    }\n",
       "\n",
       "    .dataframe tbody tr th {\n",
       "        vertical-align: top;\n",
       "    }\n",
       "\n",
       "    .dataframe thead th {\n",
       "        text-align: right;\n",
       "    }\n",
       "</style>\n",
       "<table border=\"1\" class=\"dataframe\">\n",
       "  <thead>\n",
       "    <tr style=\"text-align: right;\">\n",
       "      <th></th>\n",
       "      <th>personid</th>\n",
       "      <th>diagdate</th>\n",
       "      <th>diagcode</th>\n",
       "      <th>diaglocalcode</th>\n",
       "      <th>diagdept</th>\n",
       "    </tr>\n",
       "  </thead>\n",
       "  <tbody>\n",
       "    <tr>\n",
       "      <th>0</th>\n",
       "      <td>141778</td>\n",
       "      <td>1997-06-04 00:00:00</td>\n",
       "      <td>L73.8</td>\n",
       "      <td>DC12467</td>\n",
       "      <td>O</td>\n",
       "    </tr>\n",
       "    <tr>\n",
       "      <th>1</th>\n",
       "      <td>141778</td>\n",
       "      <td>1997-06-07 00:00:00</td>\n",
       "      <td>L73.8</td>\n",
       "      <td>DC12467</td>\n",
       "      <td>O</td>\n",
       "    </tr>\n",
       "    <tr>\n",
       "      <th>2</th>\n",
       "      <td>141778</td>\n",
       "      <td>1997-06-16 00:00:00</td>\n",
       "      <td>L73.8</td>\n",
       "      <td>DC12467</td>\n",
       "      <td>O</td>\n",
       "    </tr>\n",
       "    <tr>\n",
       "      <th>3</th>\n",
       "      <td>141778</td>\n",
       "      <td>1997-06-23 00:00:00</td>\n",
       "      <td>L73.8</td>\n",
       "      <td>DC12467</td>\n",
       "      <td>O</td>\n",
       "    </tr>\n",
       "    <tr>\n",
       "      <th>4</th>\n",
       "      <td>141778</td>\n",
       "      <td>1997-06-30 00:00:00</td>\n",
       "      <td>L73.8</td>\n",
       "      <td>DC12467</td>\n",
       "      <td>O</td>\n",
       "    </tr>\n",
       "  </tbody>\n",
       "</table>\n",
       "</div>"
      ],
      "text/plain": [
       "   personid             diagdate diagcode diaglocalcode diagdept\n",
       "0    141778  1997-06-04 00:00:00    L73.8       DC12467        O\n",
       "1    141778  1997-06-07 00:00:00    L73.8       DC12467        O\n",
       "2    141778  1997-06-16 00:00:00    L73.8       DC12467        O\n",
       "3    141778  1997-06-23 00:00:00    L73.8       DC12467        O\n",
       "4    141778  1997-06-30 00:00:00    L73.8       DC12467        O"
      ]
     },
     "execution_count": 15,
     "metadata": {},
     "output_type": "execute_result"
    }
   ],
   "source": [
    "df_diag_one = pd.read_csv('Diagnosis.csv', encoding='latin-1')\n",
    "df_diag_one.head()"
   ]
  },
  {
   "cell_type": "code",
   "execution_count": 16,
   "metadata": {},
   "outputs": [
    {
     "data": {
      "text/plain": [
       "(7743772, 5)"
      ]
     },
     "execution_count": 16,
     "metadata": {},
     "output_type": "execute_result"
    }
   ],
   "source": [
    "df_diag_one.shape"
   ]
  },
  {
   "cell_type": "code",
   "execution_count": 17,
   "metadata": {},
   "outputs": [
    {
     "data": {
      "text/html": [
       "<div>\n",
       "<style scoped>\n",
       "    .dataframe tbody tr th:only-of-type {\n",
       "        vertical-align: middle;\n",
       "    }\n",
       "\n",
       "    .dataframe tbody tr th {\n",
       "        vertical-align: top;\n",
       "    }\n",
       "\n",
       "    .dataframe thead th {\n",
       "        text-align: right;\n",
       "    }\n",
       "</style>\n",
       "<table border=\"1\" class=\"dataframe\">\n",
       "  <thead>\n",
       "    <tr style=\"text-align: right;\">\n",
       "      <th></th>\n",
       "      <th>personid</th>\n",
       "      <th>diagdate</th>\n",
       "      <th>diagcode</th>\n",
       "      <th>diaglocalcode</th>\n",
       "      <th>diagdept</th>\n",
       "    </tr>\n",
       "  </thead>\n",
       "  <tbody>\n",
       "    <tr>\n",
       "      <th>1399097</th>\n",
       "      <td>1</td>\n",
       "      <td>1999-06-23 00:00:00</td>\n",
       "      <td>J30.4</td>\n",
       "      <td>DC3049</td>\n",
       "      <td>O</td>\n",
       "    </tr>\n",
       "    <tr>\n",
       "      <th>5955683</th>\n",
       "      <td>2</td>\n",
       "      <td>2010-09-09 00:00:00</td>\n",
       "      <td>G50.0</td>\n",
       "      <td>DC2017</td>\n",
       "      <td>O</td>\n",
       "    </tr>\n",
       "    <tr>\n",
       "      <th>1443173</th>\n",
       "      <td>3</td>\n",
       "      <td>1998-09-08 00:00:00</td>\n",
       "      <td>I20.9</td>\n",
       "      <td>DC5551</td>\n",
       "      <td>O</td>\n",
       "    </tr>\n",
       "    <tr>\n",
       "      <th>2970763</th>\n",
       "      <td>4</td>\n",
       "      <td>2005-10-21 00:00:00</td>\n",
       "      <td>M19.99A</td>\n",
       "      <td>DC5189</td>\n",
       "      <td>O</td>\n",
       "    </tr>\n",
       "    <tr>\n",
       "      <th>7033176</th>\n",
       "      <td>5</td>\n",
       "      <td>2012-02-08 00:00:00</td>\n",
       "      <td>R42</td>\n",
       "      <td>DC3614</td>\n",
       "      <td>O</td>\n",
       "    </tr>\n",
       "    <tr>\n",
       "      <th>...</th>\n",
       "      <td>...</td>\n",
       "      <td>...</td>\n",
       "      <td>...</td>\n",
       "      <td>...</td>\n",
       "      <td>...</td>\n",
       "    </tr>\n",
       "    <tr>\n",
       "      <th>4780076</th>\n",
       "      <td>461791</td>\n",
       "      <td>2007-09-27 15:20:00</td>\n",
       "      <td>D25.9</td>\n",
       "      <td>DC724</td>\n",
       "      <td>I</td>\n",
       "    </tr>\n",
       "    <tr>\n",
       "      <th>4198479</th>\n",
       "      <td>461792</td>\n",
       "      <td>2007-05-14 00:00:00</td>\n",
       "      <td>C16.9</td>\n",
       "      <td>DC3877</td>\n",
       "      <td>O</td>\n",
       "    </tr>\n",
       "    <tr>\n",
       "      <th>3048364</th>\n",
       "      <td>461793</td>\n",
       "      <td>2005-06-01 00:00:00</td>\n",
       "      <td>C73</td>\n",
       "      <td>DC4775</td>\n",
       "      <td>O</td>\n",
       "    </tr>\n",
       "    <tr>\n",
       "      <th>563760</th>\n",
       "      <td>461794</td>\n",
       "      <td>2002-07-04 00:00:00</td>\n",
       "      <td>M99623</td>\n",
       "      <td>DC2152</td>\n",
       "      <td>O</td>\n",
       "    </tr>\n",
       "    <tr>\n",
       "      <th>7199239</th>\n",
       "      <td>461795</td>\n",
       "      <td>2012-06-29 00:00:00</td>\n",
       "      <td>E11.10</td>\n",
       "      <td>DC12230</td>\n",
       "      <td>O</td>\n",
       "    </tr>\n",
       "  </tbody>\n",
       "</table>\n",
       "<p>424363 rows × 5 columns</p>\n",
       "</div>"
      ],
      "text/plain": [
       "         personid             diagdate diagcode diaglocalcode diagdept\n",
       "1399097         1  1999-06-23 00:00:00    J30.4        DC3049        O\n",
       "5955683         2  2010-09-09 00:00:00    G50.0        DC2017        O\n",
       "1443173         3  1998-09-08 00:00:00    I20.9        DC5551        O\n",
       "2970763         4  2005-10-21 00:00:00  M19.99A        DC5189        O\n",
       "7033176         5  2012-02-08 00:00:00      R42        DC3614        O\n",
       "...           ...                  ...      ...           ...      ...\n",
       "4780076    461791  2007-09-27 15:20:00    D25.9         DC724        I\n",
       "4198479    461792  2007-05-14 00:00:00    C16.9        DC3877        O\n",
       "3048364    461793  2005-06-01 00:00:00      C73        DC4775        O\n",
       "563760     461794  2002-07-04 00:00:00   M99623        DC2152        O\n",
       "7199239    461795  2012-06-29 00:00:00   E11.10       DC12230        O\n",
       "\n",
       "[424363 rows x 5 columns]"
      ]
     },
     "execution_count": 17,
     "metadata": {},
     "output_type": "execute_result"
    }
   ],
   "source": [
    "# Drop duplicate entries (repeated entry of the same ID)\n",
    "df_diag_two = df_diag_one.sort_values('diagdate').drop_duplicates('personid',keep='last')\n",
    "df_diag_two.sort_values(by=['personid'])"
   ]
  },
  {
   "cell_type": "code",
   "execution_count": 18,
   "metadata": {},
   "outputs": [
    {
     "data": {
      "text/plain": [
       "(424363, 5)"
      ]
     },
     "execution_count": 18,
     "metadata": {},
     "output_type": "execute_result"
    }
   ],
   "source": [
    "df_diag_two.shape"
   ]
  },
  {
   "cell_type": "code",
   "execution_count": 19,
   "metadata": {
    "scrolled": true
   },
   "outputs": [
    {
     "data": {
      "text/html": [
       "<div>\n",
       "<style scoped>\n",
       "    .dataframe tbody tr th:only-of-type {\n",
       "        vertical-align: middle;\n",
       "    }\n",
       "\n",
       "    .dataframe tbody tr th {\n",
       "        vertical-align: top;\n",
       "    }\n",
       "\n",
       "    .dataframe thead th {\n",
       "        text-align: right;\n",
       "    }\n",
       "</style>\n",
       "<table border=\"1\" class=\"dataframe\">\n",
       "  <thead>\n",
       "    <tr style=\"text-align: right;\">\n",
       "      <th></th>\n",
       "      <th>personid</th>\n",
       "      <th>sex</th>\n",
       "      <th>Birthyeargroup</th>\n",
       "      <th>ethnicity</th>\n",
       "    </tr>\n",
       "  </thead>\n",
       "  <tbody>\n",
       "    <tr>\n",
       "      <th>0</th>\n",
       "      <td>369485</td>\n",
       "      <td>1</td>\n",
       "      <td>16</td>\n",
       "      <td>1</td>\n",
       "    </tr>\n",
       "    <tr>\n",
       "      <th>1</th>\n",
       "      <td>138392</td>\n",
       "      <td>0</td>\n",
       "      <td>14</td>\n",
       "      <td>1</td>\n",
       "    </tr>\n",
       "    <tr>\n",
       "      <th>2</th>\n",
       "      <td>188469</td>\n",
       "      <td>1</td>\n",
       "      <td>20</td>\n",
       "      <td>1</td>\n",
       "    </tr>\n",
       "    <tr>\n",
       "      <th>3</th>\n",
       "      <td>169164</td>\n",
       "      <td>0</td>\n",
       "      <td>12</td>\n",
       "      <td>1</td>\n",
       "    </tr>\n",
       "    <tr>\n",
       "      <th>4</th>\n",
       "      <td>434516</td>\n",
       "      <td>1</td>\n",
       "      <td>14</td>\n",
       "      <td>1</td>\n",
       "    </tr>\n",
       "  </tbody>\n",
       "</table>\n",
       "</div>"
      ],
      "text/plain": [
       "   personid  sex  Birthyeargroup  ethnicity\n",
       "0    369485    1              16          1\n",
       "1    138392    0              14          1\n",
       "2    188469    1              20          1\n",
       "3    169164    0              12          1\n",
       "4    434516    1              14          1"
      ]
     },
     "execution_count": 19,
     "metadata": {},
     "output_type": "execute_result"
    }
   ],
   "source": [
    "df_person = pd.read_csv('Person.csv')\n",
    "df_person.head()"
   ]
  },
  {
   "cell_type": "code",
   "execution_count": 20,
   "metadata": {},
   "outputs": [
    {
     "data": {
      "text/plain": [
       "(461034, 4)"
      ]
     },
     "execution_count": 20,
     "metadata": {},
     "output_type": "execute_result"
    }
   ],
   "source": [
    "df_person.shape"
   ]
  },
  {
   "cell_type": "code",
   "execution_count": 21,
   "metadata": {},
   "outputs": [],
   "source": [
    "# Merge the diagnosis dataset with the personal info dataset with the common column (personid)\n",
    "df_diag_person = pd.merge(df_diag_two, df_person, on='personid')"
   ]
  },
  {
   "cell_type": "code",
   "execution_count": 22,
   "metadata": {},
   "outputs": [
    {
     "data": {
      "text/html": [
       "<div>\n",
       "<style scoped>\n",
       "    .dataframe tbody tr th:only-of-type {\n",
       "        vertical-align: middle;\n",
       "    }\n",
       "\n",
       "    .dataframe tbody tr th {\n",
       "        vertical-align: top;\n",
       "    }\n",
       "\n",
       "    .dataframe thead th {\n",
       "        text-align: right;\n",
       "    }\n",
       "</style>\n",
       "<table border=\"1\" class=\"dataframe\">\n",
       "  <thead>\n",
       "    <tr style=\"text-align: right;\">\n",
       "      <th></th>\n",
       "      <th>personid</th>\n",
       "      <th>diagdate</th>\n",
       "      <th>diagcode</th>\n",
       "      <th>diaglocalcode</th>\n",
       "      <th>diagdept</th>\n",
       "      <th>sex</th>\n",
       "      <th>Birthyeargroup</th>\n",
       "      <th>ethnicity</th>\n",
       "    </tr>\n",
       "  </thead>\n",
       "  <tbody>\n",
       "    <tr>\n",
       "      <th>0</th>\n",
       "      <td>68536</td>\n",
       "      <td>1994-08-30 02:37:00</td>\n",
       "      <td>K01.1</td>\n",
       "      <td>DC9189</td>\n",
       "      <td>I</td>\n",
       "      <td>1</td>\n",
       "      <td>16</td>\n",
       "      <td>1</td>\n",
       "    </tr>\n",
       "    <tr>\n",
       "      <th>1</th>\n",
       "      <td>216182</td>\n",
       "      <td>1995-01-03 23:45:00</td>\n",
       "      <td>G91.9</td>\n",
       "      <td>DC78</td>\n",
       "      <td>I</td>\n",
       "      <td>1</td>\n",
       "      <td>4</td>\n",
       "      <td>1</td>\n",
       "    </tr>\n",
       "    <tr>\n",
       "      <th>2</th>\n",
       "      <td>458392</td>\n",
       "      <td>1995-01-04 16:27:00</td>\n",
       "      <td>S72.20</td>\n",
       "      <td>DC13004</td>\n",
       "      <td>I</td>\n",
       "      <td>1</td>\n",
       "      <td>10</td>\n",
       "      <td>1</td>\n",
       "    </tr>\n",
       "    <tr>\n",
       "      <th>3</th>\n",
       "      <td>396139</td>\n",
       "      <td>1995-01-06 15:19:00</td>\n",
       "      <td>M19.99</td>\n",
       "      <td>DC7130</td>\n",
       "      <td>I</td>\n",
       "      <td>0</td>\n",
       "      <td>7</td>\n",
       "      <td>1</td>\n",
       "    </tr>\n",
       "    <tr>\n",
       "      <th>4</th>\n",
       "      <td>251126</td>\n",
       "      <td>1995-01-12 17:33:00</td>\n",
       "      <td>M95303</td>\n",
       "      <td>DC13765</td>\n",
       "      <td>I</td>\n",
       "      <td>0</td>\n",
       "      <td>11</td>\n",
       "      <td>1</td>\n",
       "    </tr>\n",
       "  </tbody>\n",
       "</table>\n",
       "</div>"
      ],
      "text/plain": [
       "   personid             diagdate diagcode diaglocalcode diagdept  sex  \\\n",
       "0     68536  1994-08-30 02:37:00    K01.1        DC9189        I    1   \n",
       "1    216182  1995-01-03 23:45:00    G91.9          DC78        I    1   \n",
       "2    458392  1995-01-04 16:27:00   S72.20       DC13004        I    1   \n",
       "3    396139  1995-01-06 15:19:00   M19.99        DC7130        I    0   \n",
       "4    251126  1995-01-12 17:33:00   M95303       DC13765        I    0   \n",
       "\n",
       "   Birthyeargroup  ethnicity  \n",
       "0              16          1  \n",
       "1               4          1  \n",
       "2              10          1  \n",
       "3               7          1  \n",
       "4              11          1  "
      ]
     },
     "execution_count": 22,
     "metadata": {},
     "output_type": "execute_result"
    }
   ],
   "source": [
    "df_diag_person.head()"
   ]
  },
  {
   "cell_type": "code",
   "execution_count": 23,
   "metadata": {},
   "outputs": [
    {
     "data": {
      "text/plain": [
       "(424363, 8)"
      ]
     },
     "execution_count": 23,
     "metadata": {},
     "output_type": "execute_result"
    }
   ],
   "source": [
    "df_diag_person.shape"
   ]
  },
  {
   "cell_type": "code",
   "execution_count": 24,
   "metadata": {},
   "outputs": [
    {
     "data": {
      "text/plain": [
       "personid          0\n",
       "diagdate          0\n",
       "diagcode          0\n",
       "diaglocalcode     0\n",
       "diagdept          0\n",
       "sex               0\n",
       "Birthyeargroup    0\n",
       "ethnicity         0\n",
       "dtype: int64"
      ]
     },
     "execution_count": 24,
     "metadata": {},
     "output_type": "execute_result"
    }
   ],
   "source": [
    "df_diag_person.isnull().sum()"
   ]
  },
  {
   "cell_type": "code",
   "execution_count": 25,
   "metadata": {},
   "outputs": [
    {
     "data": {
      "text/html": [
       "<div>\n",
       "<style scoped>\n",
       "    .dataframe tbody tr th:only-of-type {\n",
       "        vertical-align: middle;\n",
       "    }\n",
       "\n",
       "    .dataframe tbody tr th {\n",
       "        vertical-align: top;\n",
       "    }\n",
       "\n",
       "    .dataframe thead th {\n",
       "        text-align: right;\n",
       "    }\n",
       "</style>\n",
       "<table border=\"1\" class=\"dataframe\">\n",
       "  <thead>\n",
       "    <tr style=\"text-align: right;\">\n",
       "      <th></th>\n",
       "      <th>personid</th>\n",
       "      <th>diagdate</th>\n",
       "      <th>diagcode</th>\n",
       "      <th>diaglocalcode</th>\n",
       "      <th>diagdept</th>\n",
       "      <th>sex</th>\n",
       "      <th>Birthyeargroup</th>\n",
       "      <th>ethnicity</th>\n",
       "      <th>MI</th>\n",
       "    </tr>\n",
       "  </thead>\n",
       "  <tbody>\n",
       "    <tr>\n",
       "      <th>0</th>\n",
       "      <td>68536</td>\n",
       "      <td>1994-08-30 02:37:00</td>\n",
       "      <td>K01.1</td>\n",
       "      <td>DC9189</td>\n",
       "      <td>I</td>\n",
       "      <td>1</td>\n",
       "      <td>16</td>\n",
       "      <td>1</td>\n",
       "      <td>0</td>\n",
       "    </tr>\n",
       "    <tr>\n",
       "      <th>1</th>\n",
       "      <td>216182</td>\n",
       "      <td>1995-01-03 23:45:00</td>\n",
       "      <td>G91.9</td>\n",
       "      <td>DC78</td>\n",
       "      <td>I</td>\n",
       "      <td>1</td>\n",
       "      <td>4</td>\n",
       "      <td>1</td>\n",
       "      <td>0</td>\n",
       "    </tr>\n",
       "    <tr>\n",
       "      <th>2</th>\n",
       "      <td>458392</td>\n",
       "      <td>1995-01-04 16:27:00</td>\n",
       "      <td>S72.20</td>\n",
       "      <td>DC13004</td>\n",
       "      <td>I</td>\n",
       "      <td>1</td>\n",
       "      <td>10</td>\n",
       "      <td>1</td>\n",
       "      <td>0</td>\n",
       "    </tr>\n",
       "    <tr>\n",
       "      <th>3</th>\n",
       "      <td>396139</td>\n",
       "      <td>1995-01-06 15:19:00</td>\n",
       "      <td>M19.99</td>\n",
       "      <td>DC7130</td>\n",
       "      <td>I</td>\n",
       "      <td>0</td>\n",
       "      <td>7</td>\n",
       "      <td>1</td>\n",
       "      <td>0</td>\n",
       "    </tr>\n",
       "    <tr>\n",
       "      <th>4</th>\n",
       "      <td>251126</td>\n",
       "      <td>1995-01-12 17:33:00</td>\n",
       "      <td>M95303</td>\n",
       "      <td>DC13765</td>\n",
       "      <td>I</td>\n",
       "      <td>0</td>\n",
       "      <td>11</td>\n",
       "      <td>1</td>\n",
       "      <td>0</td>\n",
       "    </tr>\n",
       "  </tbody>\n",
       "</table>\n",
       "</div>"
      ],
      "text/plain": [
       "   personid             diagdate diagcode diaglocalcode diagdept  sex  \\\n",
       "0     68536  1994-08-30 02:37:00    K01.1        DC9189        I    1   \n",
       "1    216182  1995-01-03 23:45:00    G91.9          DC78        I    1   \n",
       "2    458392  1995-01-04 16:27:00   S72.20       DC13004        I    1   \n",
       "3    396139  1995-01-06 15:19:00   M19.99        DC7130        I    0   \n",
       "4    251126  1995-01-12 17:33:00   M95303       DC13765        I    0   \n",
       "\n",
       "   Birthyeargroup  ethnicity MI  \n",
       "0              16          1  0  \n",
       "1               4          1  0  \n",
       "2              10          1  0  \n",
       "3               7          1  0  \n",
       "4              11          1  0  "
      ]
     },
     "execution_count": 25,
     "metadata": {},
     "output_type": "execute_result"
    }
   ],
   "source": [
    "####################### Create a new feature base on the diagnosis code: MI (1 = MI, 0 = no)\n",
    "condition = (df_diag_person['diaglocalcode']=='DC5624')|(df_diag_person['diaglocalcode']=='DC7547')|(df_diag_person['diaglocalcode']=='DC910')|(df_diag_person['diaglocalcode']=='DC967')|(df_diag_person['diaglocalcode']=='DC13972')|(df_diag_person['diaglocalcode']=='DC14546')\n",
    "\n",
    "df_diag_person['MI'] = np.where(condition, '1', '0')\n",
    "df_diag_person.head()"
   ]
  },
  {
   "cell_type": "code",
   "execution_count": 26,
   "metadata": {},
   "outputs": [
    {
     "data": {
      "text/plain": [
       "DC14546    2\n",
       "Name: diaglocalcode, dtype: int64"
      ]
     },
     "execution_count": 26,
     "metadata": {},
     "output_type": "execute_result"
    }
   ],
   "source": [
    "# Check the number of entries of a specific diagnostic code \n",
    "df_diag_person['diaglocalcode'][df_diag_person['diaglocalcode'] == \"DC14546\"].value_counts()"
   ]
  },
  {
   "cell_type": "code",
   "execution_count": 27,
   "metadata": {},
   "outputs": [
    {
     "data": {
      "text/plain": [
       "DC6671     26151\n",
       "DC7933     12467\n",
       "DC8645      8242\n",
       "DC1255      6840\n",
       "DC4775      5519\n",
       "           ...  \n",
       "DC10880        1\n",
       "DC6503         1\n",
       "DC9260         1\n",
       "DC1219         1\n",
       "DC4790         1\n",
       "Name: diaglocalcode, Length: 10213, dtype: int64"
      ]
     },
     "execution_count": 27,
     "metadata": {},
     "output_type": "execute_result"
    }
   ],
   "source": [
    "df_diag_person['diaglocalcode'].value_counts()"
   ]
  },
  {
   "cell_type": "code",
   "execution_count": 28,
   "metadata": {},
   "outputs": [
    {
     "data": {
      "text/plain": [
       "0    422738\n",
       "1      1625\n",
       "Name: MI, dtype: int64"
      ]
     },
     "execution_count": 28,
     "metadata": {},
     "output_type": "execute_result"
    }
   ],
   "source": [
    "df_diag_person['MI'].value_counts()"
   ]
  },
  {
   "cell_type": "code",
   "execution_count": 29,
   "metadata": {},
   "outputs": [
    {
     "data": {
      "text/plain": [
       "<matplotlib.axes._subplots.AxesSubplot at 0x1109466a0>"
      ]
     },
     "execution_count": 29,
     "metadata": {},
     "output_type": "execute_result"
    },
    {
     "data": {
      "image/png": "[encoded data removed]",
      "text/plain": [
       "<Figure size 720x360 with 1 Axes>"
      ]
     },
     "metadata": {
      "needs_background": "light"
     },
     "output_type": "display_data"
    }
   ],
   "source": [
    "df_diag_person['MI'].value_counts().plot(kind='bar', title='MI Count')"
   ]
  },
  {
   "cell_type": "code",
   "execution_count": 30,
   "metadata": {},
   "outputs": [
    {
     "data": {
      "text/html": [
       "<div>\n",
       "<style scoped>\n",
       "    .dataframe tbody tr th:only-of-type {\n",
       "        vertical-align: middle;\n",
       "    }\n",
       "\n",
       "    .dataframe tbody tr th {\n",
       "        vertical-align: top;\n",
       "    }\n",
       "\n",
       "    .dataframe thead th {\n",
       "        text-align: right;\n",
       "    }\n",
       "</style>\n",
       "<table border=\"1\" class=\"dataframe\">\n",
       "  <thead>\n",
       "    <tr style=\"text-align: right;\">\n",
       "      <th></th>\n",
       "      <th>personid</th>\n",
       "      <th>diagdate</th>\n",
       "      <th>diagcode</th>\n",
       "      <th>diaglocalcode</th>\n",
       "      <th>diagdept</th>\n",
       "      <th>sex</th>\n",
       "      <th>Birthyeargroup</th>\n",
       "      <th>ethnicity</th>\n",
       "      <th>MI</th>\n",
       "    </tr>\n",
       "  </thead>\n",
       "  <tbody>\n",
       "    <tr>\n",
       "      <th>0</th>\n",
       "      <td>68536</td>\n",
       "      <td>1994-08-30 02:37:00</td>\n",
       "      <td>K01.1</td>\n",
       "      <td>DC9189</td>\n",
       "      <td>I</td>\n",
       "      <td>1</td>\n",
       "      <td>16</td>\n",
       "      <td>1</td>\n",
       "      <td>0</td>\n",
       "    </tr>\n",
       "    <tr>\n",
       "      <th>1</th>\n",
       "      <td>216182</td>\n",
       "      <td>1995-01-03 23:45:00</td>\n",
       "      <td>G91.9</td>\n",
       "      <td>DC78</td>\n",
       "      <td>I</td>\n",
       "      <td>1</td>\n",
       "      <td>4</td>\n",
       "      <td>1</td>\n",
       "      <td>0</td>\n",
       "    </tr>\n",
       "    <tr>\n",
       "      <th>2</th>\n",
       "      <td>458392</td>\n",
       "      <td>1995-01-04 16:27:00</td>\n",
       "      <td>S72.20</td>\n",
       "      <td>DC13004</td>\n",
       "      <td>I</td>\n",
       "      <td>1</td>\n",
       "      <td>10</td>\n",
       "      <td>1</td>\n",
       "      <td>0</td>\n",
       "    </tr>\n",
       "    <tr>\n",
       "      <th>3</th>\n",
       "      <td>396139</td>\n",
       "      <td>1995-01-06 15:19:00</td>\n",
       "      <td>M19.99</td>\n",
       "      <td>DC7130</td>\n",
       "      <td>I</td>\n",
       "      <td>0</td>\n",
       "      <td>7</td>\n",
       "      <td>1</td>\n",
       "      <td>0</td>\n",
       "    </tr>\n",
       "    <tr>\n",
       "      <th>4</th>\n",
       "      <td>251126</td>\n",
       "      <td>1995-01-12 17:33:00</td>\n",
       "      <td>M95303</td>\n",
       "      <td>DC13765</td>\n",
       "      <td>I</td>\n",
       "      <td>0</td>\n",
       "      <td>11</td>\n",
       "      <td>1</td>\n",
       "      <td>0</td>\n",
       "    </tr>\n",
       "  </tbody>\n",
       "</table>\n",
       "</div>"
      ],
      "text/plain": [
       "   personid             diagdate diagcode diaglocalcode diagdept  sex  \\\n",
       "0     68536  1994-08-30 02:37:00    K01.1        DC9189        I    1   \n",
       "1    216182  1995-01-03 23:45:00    G91.9          DC78        I    1   \n",
       "2    458392  1995-01-04 16:27:00   S72.20       DC13004        I    1   \n",
       "3    396139  1995-01-06 15:19:00   M19.99        DC7130        I    0   \n",
       "4    251126  1995-01-12 17:33:00   M95303       DC13765        I    0   \n",
       "\n",
       "   Birthyeargroup  ethnicity MI  \n",
       "0              16          1  0  \n",
       "1               4          1  0  \n",
       "2              10          1  0  \n",
       "3               7          1  0  \n",
       "4              11          1  0  "
      ]
     },
     "execution_count": 30,
     "metadata": {},
     "output_type": "execute_result"
    }
   ],
   "source": [
    "df_diag_person.head()"
   ]
  },
  {
   "cell_type": "markdown",
   "metadata": {},
   "source": [
    "## 3. Merge to obtain the final dataset "
   ]
  },
  {
   "cell_type": "code",
   "execution_count": 31,
   "metadata": {},
   "outputs": [
    {
     "data": {
      "text/html": [
       "<div>\n",
       "<style scoped>\n",
       "    .dataframe tbody tr th:only-of-type {\n",
       "        vertical-align: middle;\n",
       "    }\n",
       "\n",
       "    .dataframe tbody tr th {\n",
       "        vertical-align: top;\n",
       "    }\n",
       "\n",
       "    .dataframe thead th {\n",
       "        text-align: right;\n",
       "    }\n",
       "</style>\n",
       "<table border=\"1\" class=\"dataframe\">\n",
       "  <thead>\n",
       "    <tr style=\"text-align: right;\">\n",
       "      <th></th>\n",
       "      <th>personid</th>\n",
       "      <th>RR</th>\n",
       "      <th>PR</th>\n",
       "      <th>QRS</th>\n",
       "      <th>QT</th>\n",
       "      <th>QTc</th>\n",
       "      <th>P_wave_axis</th>\n",
       "      <th>QRS_axis</th>\n",
       "      <th>T_wave_axis</th>\n",
       "      <th>ACCI</th>\n",
       "      <th>diagdate</th>\n",
       "      <th>diagcode</th>\n",
       "      <th>diaglocalcode</th>\n",
       "      <th>diagdept</th>\n",
       "      <th>sex</th>\n",
       "      <th>Birthyeargroup</th>\n",
       "      <th>ethnicity</th>\n",
       "      <th>MI</th>\n",
       "    </tr>\n",
       "  </thead>\n",
       "  <tbody>\n",
       "    <tr>\n",
       "      <th>0</th>\n",
       "      <td>270</td>\n",
       "      <td>600.0</td>\n",
       "      <td>122.0</td>\n",
       "      <td>78.0</td>\n",
       "      <td>318</td>\n",
       "      <td>410</td>\n",
       "      <td>62.0</td>\n",
       "      <td>86.0</td>\n",
       "      <td>61.0</td>\n",
       "      <td>7</td>\n",
       "      <td>2004-07-19 00:00:00</td>\n",
       "      <td>J02.9</td>\n",
       "      <td>DC1151</td>\n",
       "      <td>O</td>\n",
       "      <td>1</td>\n",
       "      <td>21</td>\n",
       "      <td>1</td>\n",
       "      <td>0</td>\n",
       "    </tr>\n",
       "    <tr>\n",
       "      <th>1</th>\n",
       "      <td>270</td>\n",
       "      <td>594.0</td>\n",
       "      <td>124.0</td>\n",
       "      <td>78.0</td>\n",
       "      <td>306</td>\n",
       "      <td>396</td>\n",
       "      <td>67.0</td>\n",
       "      <td>85.0</td>\n",
       "      <td>60.0</td>\n",
       "      <td>7</td>\n",
       "      <td>2004-07-19 00:00:00</td>\n",
       "      <td>J02.9</td>\n",
       "      <td>DC1151</td>\n",
       "      <td>O</td>\n",
       "      <td>1</td>\n",
       "      <td>21</td>\n",
       "      <td>1</td>\n",
       "      <td>0</td>\n",
       "    </tr>\n",
       "    <tr>\n",
       "      <th>2</th>\n",
       "      <td>306709</td>\n",
       "      <td>577.0</td>\n",
       "      <td>150.0</td>\n",
       "      <td>92.0</td>\n",
       "      <td>362</td>\n",
       "      <td>476</td>\n",
       "      <td>17.0</td>\n",
       "      <td>46.0</td>\n",
       "      <td>70.0</td>\n",
       "      <td>12</td>\n",
       "      <td>2013-06-16 17:15:00</td>\n",
       "      <td>I10.9</td>\n",
       "      <td>DC7617</td>\n",
       "      <td>I</td>\n",
       "      <td>0</td>\n",
       "      <td>7</td>\n",
       "      <td>1</td>\n",
       "      <td>0</td>\n",
       "    </tr>\n",
       "    <tr>\n",
       "      <th>3</th>\n",
       "      <td>306709</td>\n",
       "      <td>645.0</td>\n",
       "      <td>162.0</td>\n",
       "      <td>90.0</td>\n",
       "      <td>372</td>\n",
       "      <td>462</td>\n",
       "      <td>99.0</td>\n",
       "      <td>55.0</td>\n",
       "      <td>82.0</td>\n",
       "      <td>11</td>\n",
       "      <td>2013-06-16 17:15:00</td>\n",
       "      <td>I10.9</td>\n",
       "      <td>DC7617</td>\n",
       "      <td>I</td>\n",
       "      <td>0</td>\n",
       "      <td>7</td>\n",
       "      <td>1</td>\n",
       "      <td>0</td>\n",
       "    </tr>\n",
       "    <tr>\n",
       "      <th>4</th>\n",
       "      <td>306709</td>\n",
       "      <td>638.0</td>\n",
       "      <td>200.0</td>\n",
       "      <td>94.0</td>\n",
       "      <td>378</td>\n",
       "      <td>472</td>\n",
       "      <td>17.0</td>\n",
       "      <td>67.0</td>\n",
       "      <td>84.0</td>\n",
       "      <td>12</td>\n",
       "      <td>2013-06-16 17:15:00</td>\n",
       "      <td>I10.9</td>\n",
       "      <td>DC7617</td>\n",
       "      <td>I</td>\n",
       "      <td>0</td>\n",
       "      <td>7</td>\n",
       "      <td>1</td>\n",
       "      <td>0</td>\n",
       "    </tr>\n",
       "    <tr>\n",
       "      <th>...</th>\n",
       "      <td>...</td>\n",
       "      <td>...</td>\n",
       "      <td>...</td>\n",
       "      <td>...</td>\n",
       "      <td>...</td>\n",
       "      <td>...</td>\n",
       "      <td>...</td>\n",
       "      <td>...</td>\n",
       "      <td>...</td>\n",
       "      <td>...</td>\n",
       "      <td>...</td>\n",
       "      <td>...</td>\n",
       "      <td>...</td>\n",
       "      <td>...</td>\n",
       "      <td>...</td>\n",
       "      <td>...</td>\n",
       "      <td>...</td>\n",
       "      <td>...</td>\n",
       "    </tr>\n",
       "    <tr>\n",
       "      <th>713442</th>\n",
       "      <td>408722</td>\n",
       "      <td>800.0</td>\n",
       "      <td>138.0</td>\n",
       "      <td>74.0</td>\n",
       "      <td>384</td>\n",
       "      <td>428</td>\n",
       "      <td>59.0</td>\n",
       "      <td>63.0</td>\n",
       "      <td>54.0</td>\n",
       "      <td>7</td>\n",
       "      <td>2012-08-31 10:46:00</td>\n",
       "      <td>H04.54</td>\n",
       "      <td>DC1191</td>\n",
       "      <td>D</td>\n",
       "      <td>0</td>\n",
       "      <td>14</td>\n",
       "      <td>1</td>\n",
       "      <td>0</td>\n",
       "    </tr>\n",
       "    <tr>\n",
       "      <th>713443</th>\n",
       "      <td>185432</td>\n",
       "      <td>984.0</td>\n",
       "      <td>178.0</td>\n",
       "      <td>96.0</td>\n",
       "      <td>366</td>\n",
       "      <td>368</td>\n",
       "      <td>69.0</td>\n",
       "      <td>65.0</td>\n",
       "      <td>57.0</td>\n",
       "      <td>8</td>\n",
       "      <td>1998-05-09 00:00:00</td>\n",
       "      <td>I47.1</td>\n",
       "      <td>DC6943</td>\n",
       "      <td>O</td>\n",
       "      <td>1</td>\n",
       "      <td>11</td>\n",
       "      <td>1</td>\n",
       "      <td>0</td>\n",
       "    </tr>\n",
       "    <tr>\n",
       "      <th>713444</th>\n",
       "      <td>42739</td>\n",
       "      <td>896.0</td>\n",
       "      <td>160.0</td>\n",
       "      <td>86.0</td>\n",
       "      <td>418</td>\n",
       "      <td>441</td>\n",
       "      <td>60.0</td>\n",
       "      <td>91.0</td>\n",
       "      <td>52.0</td>\n",
       "      <td>6</td>\n",
       "      <td>2008-11-18 00:00:00</td>\n",
       "      <td>J34.2</td>\n",
       "      <td>DC5890</td>\n",
       "      <td>O</td>\n",
       "      <td>1</td>\n",
       "      <td>19</td>\n",
       "      <td>1</td>\n",
       "      <td>0</td>\n",
       "    </tr>\n",
       "    <tr>\n",
       "      <th>713445</th>\n",
       "      <td>27429</td>\n",
       "      <td>759.0</td>\n",
       "      <td>170.0</td>\n",
       "      <td>96.0</td>\n",
       "      <td>386</td>\n",
       "      <td>442</td>\n",
       "      <td>52.0</td>\n",
       "      <td>40.0</td>\n",
       "      <td>24.0</td>\n",
       "      <td>8</td>\n",
       "      <td>2007-10-04 00:00:00</td>\n",
       "      <td>Z03.9</td>\n",
       "      <td>DC6671</td>\n",
       "      <td>O</td>\n",
       "      <td>0</td>\n",
       "      <td>13</td>\n",
       "      <td>1</td>\n",
       "      <td>0</td>\n",
       "    </tr>\n",
       "    <tr>\n",
       "      <th>713446</th>\n",
       "      <td>142693</td>\n",
       "      <td>968.0</td>\n",
       "      <td>184.0</td>\n",
       "      <td>80.0</td>\n",
       "      <td>424</td>\n",
       "      <td>430</td>\n",
       "      <td>24.0</td>\n",
       "      <td>-17.0</td>\n",
       "      <td>22.0</td>\n",
       "      <td>9</td>\n",
       "      <td>2012-09-04 00:00:00</td>\n",
       "      <td>F32.1</td>\n",
       "      <td>DC135</td>\n",
       "      <td>O</td>\n",
       "      <td>0</td>\n",
       "      <td>10</td>\n",
       "      <td>1</td>\n",
       "      <td>0</td>\n",
       "    </tr>\n",
       "  </tbody>\n",
       "</table>\n",
       "<p>713447 rows × 18 columns</p>\n",
       "</div>"
      ],
      "text/plain": [
       "        personid     RR     PR   QRS   QT  QTc  P_wave_axis  QRS_axis  \\\n",
       "0            270  600.0  122.0  78.0  318  410         62.0      86.0   \n",
       "1            270  594.0  124.0  78.0  306  396         67.0      85.0   \n",
       "2         306709  577.0  150.0  92.0  362  476         17.0      46.0   \n",
       "3         306709  645.0  162.0  90.0  372  462         99.0      55.0   \n",
       "4         306709  638.0  200.0  94.0  378  472         17.0      67.0   \n",
       "...          ...    ...    ...   ...  ...  ...          ...       ...   \n",
       "713442    408722  800.0  138.0  74.0  384  428         59.0      63.0   \n",
       "713443    185432  984.0  178.0  96.0  366  368         69.0      65.0   \n",
       "713444     42739  896.0  160.0  86.0  418  441         60.0      91.0   \n",
       "713445     27429  759.0  170.0  96.0  386  442         52.0      40.0   \n",
       "713446    142693  968.0  184.0  80.0  424  430         24.0     -17.0   \n",
       "\n",
       "        T_wave_axis  ACCI             diagdate diagcode diaglocalcode  \\\n",
       "0              61.0     7  2004-07-19 00:00:00    J02.9        DC1151   \n",
       "1              60.0     7  2004-07-19 00:00:00    J02.9        DC1151   \n",
       "2              70.0    12  2013-06-16 17:15:00    I10.9        DC7617   \n",
       "3              82.0    11  2013-06-16 17:15:00    I10.9        DC7617   \n",
       "4              84.0    12  2013-06-16 17:15:00    I10.9        DC7617   \n",
       "...             ...   ...                  ...      ...           ...   \n",
       "713442         54.0     7  2012-08-31 10:46:00   H04.54        DC1191   \n",
       "713443         57.0     8  1998-05-09 00:00:00    I47.1        DC6943   \n",
       "713444         52.0     6  2008-11-18 00:00:00    J34.2        DC5890   \n",
       "713445         24.0     8  2007-10-04 00:00:00    Z03.9        DC6671   \n",
       "713446         22.0     9  2012-09-04 00:00:00    F32.1         DC135   \n",
       "\n",
       "       diagdept  sex  Birthyeargroup  ethnicity MI  \n",
       "0             O    1              21          1  0  \n",
       "1             O    1              21          1  0  \n",
       "2             I    0               7          1  0  \n",
       "3             I    0               7          1  0  \n",
       "4             I    0               7          1  0  \n",
       "...         ...  ...             ...        ... ..  \n",
       "713442        D    0              14          1  0  \n",
       "713443        O    1              11          1  0  \n",
       "713444        O    1              19          1  0  \n",
       "713445        O    0              13          1  0  \n",
       "713446        O    0              10          1  0  \n",
       "\n",
       "[713447 rows x 18 columns]"
      ]
     },
     "execution_count": 31,
     "metadata": {},
     "output_type": "execute_result"
    }
   ],
   "source": [
    "# Merge the ecg dataset with the combined diagnosis/personal info dataset with the common column (personid)\n",
    "df_1 = pd.merge(df_three, df_diag_person, on='personid')\n",
    "df_1"
   ]
  },
  {
   "cell_type": "code",
   "execution_count": 32,
   "metadata": {},
   "outputs": [
    {
     "data": {
      "text/html": [
       "<div>\n",
       "<style scoped>\n",
       "    .dataframe tbody tr th:only-of-type {\n",
       "        vertical-align: middle;\n",
       "    }\n",
       "\n",
       "    .dataframe tbody tr th {\n",
       "        vertical-align: top;\n",
       "    }\n",
       "\n",
       "    .dataframe thead th {\n",
       "        text-align: right;\n",
       "    }\n",
       "</style>\n",
       "<table border=\"1\" class=\"dataframe\">\n",
       "  <thead>\n",
       "    <tr style=\"text-align: right;\">\n",
       "      <th></th>\n",
       "      <th>RR</th>\n",
       "      <th>PR</th>\n",
       "      <th>QRS</th>\n",
       "      <th>QT</th>\n",
       "      <th>QTc</th>\n",
       "      <th>P_wave_axis</th>\n",
       "      <th>QRS_axis</th>\n",
       "      <th>T_wave_axis</th>\n",
       "      <th>ACCI</th>\n",
       "      <th>sex</th>\n",
       "      <th>Birthyeargroup</th>\n",
       "      <th>MI</th>\n",
       "    </tr>\n",
       "  </thead>\n",
       "  <tbody>\n",
       "    <tr>\n",
       "      <th>0</th>\n",
       "      <td>600.0</td>\n",
       "      <td>122.0</td>\n",
       "      <td>78.0</td>\n",
       "      <td>318</td>\n",
       "      <td>410</td>\n",
       "      <td>62.0</td>\n",
       "      <td>86.0</td>\n",
       "      <td>61.0</td>\n",
       "      <td>7</td>\n",
       "      <td>1</td>\n",
       "      <td>21</td>\n",
       "      <td>0</td>\n",
       "    </tr>\n",
       "    <tr>\n",
       "      <th>1</th>\n",
       "      <td>594.0</td>\n",
       "      <td>124.0</td>\n",
       "      <td>78.0</td>\n",
       "      <td>306</td>\n",
       "      <td>396</td>\n",
       "      <td>67.0</td>\n",
       "      <td>85.0</td>\n",
       "      <td>60.0</td>\n",
       "      <td>7</td>\n",
       "      <td>1</td>\n",
       "      <td>21</td>\n",
       "      <td>0</td>\n",
       "    </tr>\n",
       "    <tr>\n",
       "      <th>2</th>\n",
       "      <td>577.0</td>\n",
       "      <td>150.0</td>\n",
       "      <td>92.0</td>\n",
       "      <td>362</td>\n",
       "      <td>476</td>\n",
       "      <td>17.0</td>\n",
       "      <td>46.0</td>\n",
       "      <td>70.0</td>\n",
       "      <td>12</td>\n",
       "      <td>0</td>\n",
       "      <td>7</td>\n",
       "      <td>0</td>\n",
       "    </tr>\n",
       "    <tr>\n",
       "      <th>3</th>\n",
       "      <td>645.0</td>\n",
       "      <td>162.0</td>\n",
       "      <td>90.0</td>\n",
       "      <td>372</td>\n",
       "      <td>462</td>\n",
       "      <td>99.0</td>\n",
       "      <td>55.0</td>\n",
       "      <td>82.0</td>\n",
       "      <td>11</td>\n",
       "      <td>0</td>\n",
       "      <td>7</td>\n",
       "      <td>0</td>\n",
       "    </tr>\n",
       "    <tr>\n",
       "      <th>4</th>\n",
       "      <td>638.0</td>\n",
       "      <td>200.0</td>\n",
       "      <td>94.0</td>\n",
       "      <td>378</td>\n",
       "      <td>472</td>\n",
       "      <td>17.0</td>\n",
       "      <td>67.0</td>\n",
       "      <td>84.0</td>\n",
       "      <td>12</td>\n",
       "      <td>0</td>\n",
       "      <td>7</td>\n",
       "      <td>0</td>\n",
       "    </tr>\n",
       "  </tbody>\n",
       "</table>\n",
       "</div>"
      ],
      "text/plain": [
       "      RR     PR   QRS   QT  QTc  P_wave_axis  QRS_axis  T_wave_axis  ACCI  \\\n",
       "0  600.0  122.0  78.0  318  410         62.0      86.0         61.0     7   \n",
       "1  594.0  124.0  78.0  306  396         67.0      85.0         60.0     7   \n",
       "2  577.0  150.0  92.0  362  476         17.0      46.0         70.0    12   \n",
       "3  645.0  162.0  90.0  372  462         99.0      55.0         82.0    11   \n",
       "4  638.0  200.0  94.0  378  472         17.0      67.0         84.0    12   \n",
       "\n",
       "   sex  Birthyeargroup MI  \n",
       "0    1              21  0  \n",
       "1    1              21  0  \n",
       "2    0               7  0  \n",
       "3    0               7  0  \n",
       "4    0               7  0  "
      ]
     },
     "execution_count": 32,
     "metadata": {},
     "output_type": "execute_result"
    }
   ],
   "source": [
    "df_2 = df_1.drop(columns = ['diagdate', 'diagcode', 'diaglocalcode','diagdept', 'personid', 'ethnicity'])\n",
    "col_names = df_2.columns\n",
    "df_2.head()"
   ]
  },
  {
   "cell_type": "code",
   "execution_count": 33,
   "metadata": {},
   "outputs": [
    {
     "data": {
      "text/plain": [
       "14    74203\n",
       "13    72260\n",
       "10    63164\n",
       "9     60784\n",
       "15    60598\n",
       "12    58779\n",
       "11    57410\n",
       "16    48147\n",
       "8     40248\n",
       "17    33013\n",
       "18    25574\n",
       "7     22317\n",
       "20    19632\n",
       "19    18383\n",
       "21    18265\n",
       "22    13012\n",
       "6     10869\n",
       "23     9193\n",
       "5      3432\n",
       "24     3105\n",
       "4       847\n",
       "3       181\n",
       "2        23\n",
       "1         5\n",
       "0         3\n",
       "Name: Birthyeargroup, dtype: int64"
      ]
     },
     "execution_count": 33,
     "metadata": {},
     "output_type": "execute_result"
    }
   ],
   "source": [
    "df_2['Birthyeargroup'].value_counts()"
   ]
  },
  {
   "cell_type": "code",
   "execution_count": 34,
   "metadata": {},
   "outputs": [
    {
     "data": {
      "text/plain": [
       "(713447, 12)"
      ]
     },
     "execution_count": 34,
     "metadata": {},
     "output_type": "execute_result"
    }
   ],
   "source": [
    "df_2.shape"
   ]
  },
  {
   "cell_type": "code",
   "execution_count": 35,
   "metadata": {},
   "outputs": [
    {
     "data": {
      "text/plain": [
       "0    704911\n",
       "1      8536\n",
       "Name: MI, dtype: int64"
      ]
     },
     "execution_count": 35,
     "metadata": {},
     "output_type": "execute_result"
    }
   ],
   "source": [
    "df_2['MI'].value_counts()"
   ]
  },
  {
   "cell_type": "code",
   "execution_count": 36,
   "metadata": {},
   "outputs": [
    {
     "data": {
      "text/plain": [
       "<matplotlib.axes._subplots.AxesSubplot at 0x1107435f8>"
      ]
     },
     "execution_count": 36,
     "metadata": {},
     "output_type": "execute_result"
    },
    {
     "data": {
      "image/png": "[encoded data removed]",
      "text/plain": [
       "<Figure size 720x360 with 2 Axes>"
      ]
     },
     "metadata": {
      "needs_background": "light"
     },
     "output_type": "display_data"
    }
   ],
   "source": [
    "# Created a correlation matrix\n",
    "correlation_matrix = df_2.corr().round(2)\n",
    "# annot = True to print the values inside the square\n",
    "sns.heatmap(data=correlation_matrix, annot=True)"
   ]
  },
  {
   "cell_type": "markdown",
   "metadata": {},
   "source": [
    "## 4. Scale, Oversample, and Split Data"
   ]
  },
  {
   "cell_type": "code",
   "execution_count": 37,
   "metadata": {},
   "outputs": [
    {
     "data": {
      "text/plain": [
       "(713447, 12)"
      ]
     },
     "execution_count": 37,
     "metadata": {},
     "output_type": "execute_result"
    }
   ],
   "source": [
    "train_data = df_2.values\n",
    "train_data.shape"
   ]
  },
  {
   "cell_type": "code",
   "execution_count": 38,
   "metadata": {},
   "outputs": [
    {
     "name": "stdout",
     "output_type": "stream",
     "text": [
      "(713447, 11) (713447,)\n"
     ]
    }
   ],
   "source": [
    "from sklearn import metrics\n",
    "from sklearn.model_selection import train_test_split\n",
    "\n",
    "# Training data features\n",
    "train_features = train_data[:, 0:11]\n",
    "\n",
    "# 'MI' column values\n",
    "train_target = train_data[:, 11]\n",
    "\n",
    "print (train_features.shape, train_target.shape)"
   ]
  },
  {
   "cell_type": "code",
   "execution_count": 39,
   "metadata": {},
   "outputs": [],
   "source": [
    "# defining the scaler\n",
    "robust_scaler = RobustScaler().fit(train_data)\n",
    "\n",
    "# scaling test data using minmax scaling\n",
    "train_data_robust = robust_scaler.transform(train_data)\n",
    "\n",
    "# training data features\n",
    "train_features_robust= train_data_robust[:, 0:11]\n",
    "\n",
    "# 'MI' column values\n",
    "train_target_robust = train_data_robust[:, 11]"
   ]
  },
  {
   "cell_type": "code",
   "execution_count": 40,
   "metadata": {},
   "outputs": [],
   "source": [
    "# minority oversampling using SMOTE\n",
    "over = SMOTE(sampling_strategy=0.1) # get 10% of the data from minority\n",
    "under = RandomUnderSampler(sampling_strategy=0.5) # make majority only 50% more than the minorirt in final dataset\n",
    "steps = [('o', over), ('u', under)]\n",
    "pipeline = Pipeline(steps=steps)\n",
    "# transform the dataset\n",
    "x_re, y_re = pipeline.fit_resample(train_features_robust, train_target_robust)"
   ]
  },
  {
   "cell_type": "code",
   "execution_count": 41,
   "metadata": {},
   "outputs": [],
   "source": [
    "# split 80-20 train vs test data after scaling and oversampling\n",
    "train_x, test_x, train_y, test_y = train_test_split(x_re, \n",
    "                                                    y_re, \n",
    "                                                    test_size=0.20, \n",
    "                                                    random_state=0,\n",
    "                                                    shuffle=True)"
   ]
  }
 ],
 "metadata": {
  "kernelspec": {
   "display_name": "Python 3",
   "language": "python",
   "name": "python3"
  },
  "language_info": {
   "codemirror_mode": {
    "name": "ipython",
    "version": 3
   },
   "file_extension": ".py",
   "mimetype": "text/x-python",
   "name": "python",
   "nbconvert_exporter": "python",
   "pygments_lexer": "ipython3",
   "version": "3.7.1"
  }
 },
 "nbformat": 4,
 "nbformat_minor": 2
}
